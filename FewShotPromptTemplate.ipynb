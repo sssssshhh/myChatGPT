{
 "cells": [
  {
   "cell_type": "code",
   "execution_count": 2,
   "metadata": {},
   "outputs": [
    {
     "name": "stdout",
     "output_type": "stream",
     "text": [
      "\n",
      "    Let me introduce you about Cast Away:\n",
      "    Directed by: Robert Zemeckis\n",
      "    Budget: $90 million\n",
      "    Gross: $429.6 million\n",
      "    Genres: Adventure, Drama\n",
      "    Plot: Cast Away follows the story of Chuck Noland, a FedEx executive who becomes stranded on a deserted island after a plane crash. The film explores his struggle for survival, both physically and emotionally, as he learns to adapt to his new environment and grapples with loneliness and isolation. Tom Hanks delivers a powerful performance as Chuck, capturing the character's resilience and determination in the face of overwhelming odds. The film is known for its gripping storytelling and Hanks' compelling portrayal of a man fighting for survival against all odds."
     ]
    },
    {
     "data": {
      "text/plain": [
       "AIMessageChunk(content=\"\\n    Let me introduce you about Cast Away:\\n    Directed by: Robert Zemeckis\\n    Budget: $90 million\\n    Gross: $429.6 million\\n    Genres: Adventure, Drama\\n    Plot: Cast Away follows the story of Chuck Noland, a FedEx executive who becomes stranded on a deserted island after a plane crash. The film explores his struggle for survival, both physically and emotionally, as he learns to adapt to his new environment and grapples with loneliness and isolation. Tom Hanks delivers a powerful performance as Chuck, capturing the character's resilience and determination in the face of overwhelming odds. The film is known for its gripping storytelling and Hanks' compelling portrayal of a man fighting for survival against all odds.\")"
      ]
     },
     "execution_count": 2,
     "metadata": {},
     "output_type": "execute_result"
    }
   ],
   "source": [
    "from langchain.chat_models import ChatOpenAI\n",
    "from langchain.prompts import ChatPromptTemplate\n",
    "from langchain.prompts.few_shot import FewShotChatMessagePromptTemplate\n",
    "from langchain.callbacks import StreamingStdOutCallbackHandler\n",
    "# 영화 이름을 가지고 감독, 주요 출연진, 예산, 흥행 수익, 영화의 장르, 간단한 시놉시스 등 영화에 대한 정보로 답장하는 체인을 만드세요.\n",
    "# LLM은 항상 동일한 형식을 사용하여 응답해야 하며, 이를 위해서는 원하는 출력의 예시를 LLM에 제공해야 합니다.\n",
    "# FewShotPromptTemplate 또는 FewShotChatMessagePromptTemplate을 사용\n",
    "chat = ChatOpenAI(\n",
    "    temperature=0.1,\n",
    "    streaming=True,\n",
    "    callbacks=[\n",
    "        StreamingStdOutCallbackHandler()]\n",
    ")\n",
    "\n",
    "examples = [{\n",
    "    \"movie\": \"Greece\",\n",
    "    \"answer\": \"\"\"\n",
    "    Let me introuce you about Greece:\n",
    "    Directed by: Randal Kleiser\n",
    "    Budget: $6 million\n",
    "    Gross: $396,271,103\n",
    "    Genres: Comedy, Musical, Romance\n",
    "    plot:Grease\" centers on the summer romance between Danny Zuko and Sandy Olsson. After their summer love, they unexpectedly find themselves attending the same high school, where Danny is the leader of the T-Birds greaser gang and Sandy gets acquainted with the Pink Ladies. The movie navigates their attempts to rekindle their romance amidst various high school dramas and the evolution of their characters, leading to a notable transformation by both to reconcile their differences​\n",
    "    \"\"\",\n",
    "    \"movie\": \"Notting Hill\",\n",
    "    \"answer\": \"\"\"\n",
    "    Let me introuce you about Notting Hill:\n",
    "    Directed by: Roger Michell\n",
    "    Budget: $42 million\n",
    "    Gross: $363,889,678\n",
    "    Genres: Comedy, Drama, Romance\n",
    "    plot:The film follows the romance between William Thacker, a London bookstore owner, and Anna Scott, a famous American actress. Their love story faces many challenges, including the paparazzi's fascination with Scott, which complicates their bond. The story progresses through their initial meet-cute moment, various ups and downs, and ultimately concludes with a heartwarming finish.\n",
    "    \"\"\",\n",
    "    }]\n",
    "\n",
    "example_prompt = ChatPromptTemplate.from_messages([\n",
    "    (\"human\", \"What do you know about {movie}?\"),\n",
    "    (\"ai\", \"{answer}\")\n",
    "    ])\n",
    "\n",
    "example_prompt = FewShotChatMessagePromptTemplate(\n",
    "    example_prompt=example_prompt,\n",
    "    examples=examples,\n",
    "    )\n",
    "\n",
    "final_prompt = ChatPromptTemplate.from_messages([\n",
    "    (\"system\", \"You are a movie expert.\"),\n",
    "    example_prompt,\n",
    "    (\"human\", \"What do you know about {movie}?\"),\n",
    "    ])\n",
    "\n",
    "chain = final_prompt | chat\n",
    "chain.invoke({\"movie\": \"Cast away\"})"
   ]
  }
 ],
 "metadata": {
  "kernelspec": {
   "display_name": "env",
   "language": "python",
   "name": "python3"
  },
  "language_info": {
   "codemirror_mode": {
    "name": "ipython",
    "version": 3
   },
   "file_extension": ".py",
   "mimetype": "text/x-python",
   "name": "python",
   "nbconvert_exporter": "python",
   "pygments_lexer": "ipython3",
   "version": "3.11.6"
  }
 },
 "nbformat": 4,
 "nbformat_minor": 2
}
