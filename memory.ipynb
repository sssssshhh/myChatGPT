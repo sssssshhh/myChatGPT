{
 "cells": [
  {
   "cell_type": "code",
   "execution_count": 3,
   "metadata": {},
   "outputs": [
    {
     "name": "stdout",
     "output_type": "stream",
     "text": [
      "AI: \n",
      "    I know Hunger Games:\n",
      "    Leading character's job: 🏹\n",
      "    Main Keyword of this movie: 🔥\n",
      "    Main area of the movie: 🏞️"
     ]
    },
    {
     "data": {
      "text/plain": [
       "AIMessageChunk(content=\"AI: \\n    I know Hunger Games:\\n    Leading character's job: 🏹\\n    Main Keyword of this movie: 🔥\\n    Main area of the movie: 🏞️\")"
      ]
     },
     "execution_count": 3,
     "metadata": {},
     "output_type": "execute_result"
    }
   ],
   "source": [
    "from langchain.chat_models import ChatOpenAI\n",
    "from langchain.prompts import ChatPromptTemplate\n",
    "from langchain.prompts.few_shot import FewShotPromptTemplate\n",
    "from langchain.callbacks import StreamingStdOutCallbackHandler\n",
    "from langchain.prompts.prompt import PromptTemplate\n",
    "\n",
    "# 이 체인은 영화 제목을 가져와 영화를 나타내는 세 개의 이모티콘으로 응답해야 합니다. (예: \"탑건\" -> \"🛩️👨‍✈️🔥\". \"대부\" -> \"👨‍👨‍👦🔫🍝\").\n",
    "# 항상 세 개의 이모티콘으로 답장하도록 FewShotPromptTemplate 또는 FewShotChatMessagePromptTemplate을 사용하여 체인에 예시를 제공하세요.\n",
    "# 메모리가 작동하는지 확인하려면 체인에 두 개의 영화에 대해 질문한 다음 다른 셀에서 체인에 먼저 질문한 영화가 무엇인지 알려달라고 요청하세요.\n",
    "chat = ChatOpenAI(\n",
    "    temperature=0.1,\n",
    "    streaming=True,\n",
    "    callbacks=[\n",
    "        StreamingStdOutCallbackHandler()]\n",
    ")\n",
    "\n",
    "examples = [{\n",
    "    \"question\": \"What do you know about Harry Potter series? Reply with emojis only\",\n",
    "    \"answer\": \"\"\"\n",
    "    I know Harry Potter:\n",
    "    Leading character's job: 🧙🏻‍♀️\n",
    "    Main Keyword of this movie: 🪄\n",
    "    Main area of the movie: 🏫\n",
    "    \"\"\",\n",
    "    \"question\": \"What do you know about God Father? Reply with emojis only\",\n",
    "    \"answer\": \"\"\"\n",
    "    I know God Father:\n",
    "    Leading character's job: 🔫\n",
    "    Main Keyword of this movie: 🇮🇹\n",
    "    Main area of the movie: 🇺🇸\n",
    "    \"\"\",\n",
    "    }]\n",
    "\n",
    "# You can use variable, or\n",
    "example_template = \"\"\"\n",
    "    Human = {question},\n",
    "    AI = {answer}\n",
    "\"\"\"\n",
    "\n",
    "example_prompt = PromptTemplate.from_template(\"Human: {question}¥nAI:{answer}\")\n",
    "\n",
    "prompt = FewShotPromptTemplate(\n",
    "    example_prompt=example_prompt,\n",
    "    examples=examples,\n",
    "    suffix=\"Human: Do you know about {movie}?\",\n",
    "    input_variables=[\"movie\"],\n",
    "    )\n",
    "\n",
    "chain = prompt | chat\n",
    "chain.invoke({\"movie\": \"Hunger Game\"})"
   ]
  }
 ],
 "metadata": {
  "kernelspec": {
   "display_name": "env",
   "language": "python",
   "name": "python3"
  },
  "language_info": {
   "codemirror_mode": {
    "name": "ipython",
    "version": 3
   },
   "file_extension": ".py",
   "mimetype": "text/x-python",
   "name": "python",
   "nbconvert_exporter": "python",
   "pygments_lexer": "ipython3",
   "version": "3.11.6"
  }
 },
 "nbformat": 4,
 "nbformat_minor": 2
}
