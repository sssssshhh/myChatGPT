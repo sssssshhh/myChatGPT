{
 "cells": [
  {
   "cell_type": "code",
   "execution_count": 4,
   "metadata": {},
   "outputs": [
    {
     "name": "stdout",
     "output_type": "stream",
     "text": [
      "Python, a language so sleek and sly,\n",
      "With syntax that can make you cry.\n",
      "Indentation rules, no curly braces,\n",
      "But don't be fooled by its friendly faces.\n",
      "\n",
      "It slithers through code with ease,\n",
      "But beware of its quirks, if you please.\n",
      "Dynamic typing, list comprehensions,\n",
      "A language full of endless dimensions.\n",
      "\n",
      "From web development to data science,\n",
      "Python's versatility is no pretense.\n",
      "But be prepared for unexpected errors,\n",
      "And endless debates on tabs versus spaces.\n",
      "\n",
      "So embrace the snake, with all its charm,\n",
      "But be ready for its bite, so warm.\n",
      "Python, a language both friend and foe,\n",
      "In the world of coding, it's a show.That's a wonderful poem about Python! It captures the essence of the language's unique features and quirks. If you're interested in exploring more poems related to programming languages or technology, feel free to ask. I'd be happy to share more with you."
     ]
    },
    {
     "data": {
      "text/plain": [
       "AIMessageChunk(content=\"That's a wonderful poem about Python! It captures the essence of the language's unique features and quirks. If you're interested in exploring more poems related to programming languages or technology, feel free to ask. I'd be happy to share more with you.\")"
      ]
     },
     "execution_count": 4,
     "metadata": {},
     "output_type": "execute_result"
    }
   ],
   "source": [
    "from langchain.chat_models import ChatOpenAI\n",
    "from langchain.prompts import ChatPromptTemplate\n",
    "from langchain.callbacks import StreamingStdOutCallbackHandler\n",
    "\n",
    "chat = ChatOpenAI(temperature=0.1, streaming=True, callbacks=[\n",
    "    StreamingStdOutCallbackHandler()])\n",
    "\n",
    "poet_prompt = ChatPromptTemplate.from_messages(\n",
    "    [\n",
    "        (\"system\", \"I am poet. People said my poem is sarcastic and humorous.\"),\n",
    "        (\"human\", \"I want to write poem about {programming}. And I need to describe my poem\")\n",
    "    ]\n",
    ")\n",
    "vegan_chef_prompt = ChatPromptTemplate.from_messages([\n",
    "    (\"system\", \"I am librarian in the literature section. I am specailized in introducing poems to the user\"), \n",
    "    (\"human\", \"{poem}\")\n",
    "])\n",
    "\n",
    "chef_chain = poet_prompt | chat\n",
    "veg_chain = vegan_chef_prompt | chat\n",
    "\n",
    "final_chain = {\"poem\": chef_chain} | veg_chain\n",
    "final_chain.invoke({\"programming\": \"Python\"})"
   ]
  }
 ],
 "metadata": {
  "kernelspec": {
   "display_name": "env",
   "language": "python",
   "name": "python3"
  },
  "language_info": {
   "codemirror_mode": {
    "name": "ipython",
    "version": 3
   },
   "file_extension": ".py",
   "mimetype": "text/x-python",
   "name": "python",
   "nbconvert_exporter": "python",
   "pygments_lexer": "ipython3",
   "version": "3.11.6"
  }
 },
 "nbformat": 4,
 "nbformat_minor": 2
}
