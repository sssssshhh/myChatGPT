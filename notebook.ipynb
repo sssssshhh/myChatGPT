{
 "cells": [
  {
   "cell_type": "code",
   "execution_count": 1,
   "metadata": {},
   "outputs": [
    {
     "name": "stdout",
     "output_type": "stream",
     "text": [
      "In the land of code, where serpents slither,\n",
      "There lies a language that makes programmers quiver.\n",
      "Python, they call it, a powerful tool,\n",
      "But beware, for its syntax can be quite cruel.\n",
      "\n",
      "Indented lines, no curly braces in sight,\n",
      "A language so clean, it seems just right.\n",
      "But don't be fooled by its friendly demeanor,\n",
      "One wrong move and you'll be a code cleaner.\n",
      "\n",
      "With libraries galore, it's a coder's dream,\n",
      "But be prepared for the occasional scream.\n",
      "For debugging in Python can be quite a chore,\n",
      "As you search for that elusive error once more.\n",
      "\n",
      "So embrace the snake, with caution in hand,\n",
      "For in the world of coding, it's in high demand.\n",
      "Just remember, when Python bites with its fang,\n",
      "To laugh it off and say, \"Well played, old friend.\"That's a wonderful poem about Python programming! It captures the essence of the language and the experiences that programmers often face when working with it. If you're interested in exploring more poems related to programming or technology, feel free to ask, and I'd be happy to recommend some to you."
     ]
    },
    {
     "data": {
      "text/plain": [
       "AIMessageChunk(content=\"That's a wonderful poem about Python programming! It captures the essence of the language and the experiences that programmers often face when working with it. If you're interested in exploring more poems related to programming or technology, feel free to ask, and I'd be happy to recommend some to you.\")"
      ]
     },
     "execution_count": 1,
     "metadata": {},
     "output_type": "execute_result"
    }
   ],
   "source": [
    "from langchain.chat_models import ChatOpenAI\n",
    "from langchain.prompts import ChatPromptTemplate\n",
    "from langchain.callbacks import StreamingStdOutCallbackHandler\n",
    "\n",
    "chat = ChatOpenAI(temperature=0.1, streaming=True, callbacks=[\n",
    "    StreamingStdOutCallbackHandler()])\n",
    "\n",
    "poet_prompt = ChatPromptTemplate.from_messages(\n",
    "    [\n",
    "        (\"system\", \"I am poet. People said my poem is sarcastic and humorous.\"),\n",
    "        (\"human\", \"I want to write poem about {programming}. And I need to describe my poem\")\n",
    "    ]\n",
    ")\n",
    "vegan_chef_prompt = ChatPromptTemplate.from_messages([\n",
    "    (\"system\", \"I am librarian in the literature section. I am specailized in introducing poems to the user\"), \n",
    "    (\"human\", \"{poem}\")\n",
    "])\n",
    "\n",
    "chef_chain = poet_prompt | chat\n",
    "veg_chain = vegan_chef_prompt | chat\n",
    "\n",
    "final_chain = {\"poem\": chef_chain} | veg_chain\n",
    "final_chain.invoke({\"programming\": \"Python\"})"
   ]
  }
 ],
 "metadata": {
  "kernelspec": {
   "display_name": "env",
   "language": "python",
   "name": "python3"
  },
  "language_info": {
   "codemirror_mode": {
    "name": "ipython",
    "version": 3
   },
   "file_extension": ".py",
   "mimetype": "text/x-python",
   "name": "python",
   "nbconvert_exporter": "python",
   "pygments_lexer": "ipython3",
   "version": "3.11.6"
  }
 },
 "nbformat": 4,
 "nbformat_minor": 2
}
