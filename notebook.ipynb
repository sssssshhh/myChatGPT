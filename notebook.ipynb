{
 "cells": [
  {
   "cell_type": "code",
   "execution_count": 3,
   "metadata": {},
   "outputs": [
    {
     "name": "stdout",
     "output_type": "stream",
     "text": [
      "Python, a language so sleek and sly,\n",
      "With syntax clean, it makes you sigh.\n",
      "Indentation rules, no curly braces,\n",
      "But don't forget the colons in all the right places.\n",
      "\n",
      "Dynamic typing, lists and tuples galore,\n",
      "You'll never run out of ways to explore.\n",
      "Modules and packages, libraries abound,\n",
      "With Python by your side, you'll never be bound.\n",
      "\n",
      "But beware the whitespace, it's a tricky foe,\n",
      "One wrong tab and your code won't flow.\n",
      "So take heed, dear coder, and be wise,\n",
      "For in the world of Python, only the strong survive.\n",
      "\n",
      "So write your scripts, your functions and classes,\n",
      "And watch as Python weaves its magic passes.\n",
      "For in this language, there's humor and wit,\n",
      "A tool so powerful, you just can't quit.\n",
      "\n",
      "So embrace the snake, with all its charm,\n",
      "And let Python guide you, keep you from harm.\n",
      "For in the world of coding, it's clear to see,\n",
      "Python is the language that sets you free.What a wonderful poem about Python! It beautifully captures the essence of the language and its unique features. If you're interested in exploring more poems related to programming languages or technology, feel free to ask, and I'd be happy to share some with you."
     ]
    },
    {
     "data": {
      "text/plain": [
       "AIMessageChunk(content=\"What a wonderful poem about Python! It beautifully captures the essence of the language and its unique features. If you're interested in exploring more poems related to programming languages or technology, feel free to ask, and I'd be happy to share some with you.\")"
      ]
     },
     "execution_count": 3,
     "metadata": {},
     "output_type": "execute_result"
    }
   ],
   "source": [
    "from langchain.chat_models import ChatOpenAI\n",
    "from langchain.prompts import ChatPromptTemplate\n",
    "from langchain.callbacks import StreamingStdOutCallbackHandler\n",
    "\n",
    "chat = ChatOpenAI(temperature=0.1, streaming=True, callbacks=[\n",
    "    StreamingStdOutCallbackHandler()])\n",
    "\n",
    "poet_prompt = ChatPromptTemplate.from_messages(\n",
    "    [\n",
    "        (\"system\", \"I am poet. People said my poem is sarcastic and humorous.\"),\n",
    "        (\"human\", \"I want to write poem about {programming}. And I need to describe my poem\")\n",
    "    ]\n",
    ")\n",
    "vegan_chef_prompt = ChatPromptTemplate.from_messages([\n",
    "    (\"system\", \"I am librarian in the literature section. I am specailized in introducing poems to the user\"), \n",
    "    (\"human\", \"{poem}\")\n",
    "])\n",
    "\n",
    "chef_chain = poet_prompt | chat\n",
    "veg_chain = vegan_chef_prompt | chat\n",
    "\n",
    "final_chain = {\"poem\": chef_chain} | veg_chain\n",
    "final_chain.invoke({\"programming\": \"Python\"})"
   ]
  }
 ],
 "metadata": {
  "kernelspec": {
   "display_name": "env",
   "language": "python",
   "name": "python3"
  },
  "language_info": {
   "codemirror_mode": {
    "name": "ipython",
    "version": 3
   },
   "file_extension": ".py",
   "mimetype": "text/x-python",
   "name": "python",
   "nbconvert_exporter": "python",
   "pygments_lexer": "ipython3",
   "version": "3.11.6"
  }
 },
 "nbformat": 4,
 "nbformat_minor": 2
}
