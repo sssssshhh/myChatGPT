{
 "cells": [
  {
   "cell_type": "code",
   "execution_count": 3,
   "metadata": {},
   "outputs": [
    {
     "name": "stdout",
     "output_type": "stream",
     "text": [
      "Of course! I can help you with that. Here's a gluten-free muffin recipe that you might enjoy:\n",
      "\n",
      "Gluten-Free Blueberry Muffins\n",
      "\n",
      "Ingredients:\n",
      "- 2 cups gluten-free flour blend\n",
      "- 1/2 cup sugar\n",
      "- 1 tablespoon baking powder\n",
      "- 1/2 teaspoon salt\n",
      "- 1/2 cup unsweetened applesauce\n",
      "- 1/4 cup vegetable oil\n",
      "- 1/2 cup milk (or dairy-free alternative)\n",
      "- 2 eggs\n",
      "- 1 teaspoon vanilla extract\n",
      "- 1 cup fresh or frozen blueberries\n",
      "\n",
      "Instructions:\n",
      "1. Preheat your oven to 375°F (190°C) and line a muffin tin with paper liners.\n",
      "2. In a large mixing bowl, whisk together the gluten-free flour, sugar, baking powder, and salt.\n",
      "3. In a separate bowl, combine the applesauce, vegetable oil, milk, eggs, and vanilla extract.\n",
      "4. Pour the wet ingredients into the dry ingredients and stir until just combined. Be careful not to overmix.\n",
      "5. Gently fold in the blueberries.\n",
      "6. Divide the batter evenly among the muffin cups, filling each about 3/4 full.\n",
      "7. Bake for 18-20 minutes, or until a toothpick inserted into the center of a muffin comes out clean.\n",
      "8. Allow the muffins to cool in the tin for a few minutes before transferring them to a wire rack to cool completely.\n",
      "\n",
      "Enjoy your gluten-free blueberry muffins! Let me know if you have any other questions or need more baking tips.Thank you for sharing the gluten-free blueberry muffin recipe! As a vegetarian chef specialized in making traditional recipes vegetarian, I can suggest a few alternative ingredients to make this recipe vegan-friendly:\n",
      "\n",
      "- Instead of using milk, you can substitute it with any plant-based milk such as almond milk, soy milk, or oat milk. These alternatives work well in baking and will provide moisture to the muffins.\n",
      "\n",
      "- To replace the eggs, you can use a flax egg or a chia egg. To make a flax egg, mix 1 tablespoon of ground flaxseed meal with 3 tablespoons of water and let it sit for a few minutes to thicken. For a chia egg, use the same ratio of chia seeds and water. These egg substitutes will help bind the ingredients together in the muffins.\n",
      "\n",
      "By making these simple swaps, you can easily transform the gluten-free blueberry muffins into a vegan-friendly version without compromising on taste or texture. Enjoy baking and let me know if you have any other recipes you'd like to veganize!"
     ]
    },
    {
     "data": {
      "text/plain": [
       "AIMessageChunk(content=\"Thank you for sharing the gluten-free blueberry muffin recipe! As a vegetarian chef specialized in making traditional recipes vegetarian, I can suggest a few alternative ingredients to make this recipe vegan-friendly:\\n\\n- Instead of using milk, you can substitute it with any plant-based milk such as almond milk, soy milk, or oat milk. These alternatives work well in baking and will provide moisture to the muffins.\\n\\n- To replace the eggs, you can use a flax egg or a chia egg. To make a flax egg, mix 1 tablespoon of ground flaxseed meal with 3 tablespoons of water and let it sit for a few minutes to thicken. For a chia egg, use the same ratio of chia seeds and water. These egg substitutes will help bind the ingredients together in the muffins.\\n\\nBy making these simple swaps, you can easily transform the gluten-free blueberry muffins into a vegan-friendly version without compromising on taste or texture. Enjoy baking and let me know if you have any other recipes you'd like to veganize!\")"
      ]
     },
     "execution_count": 3,
     "metadata": {},
     "output_type": "execute_result"
    }
   ],
   "source": [
    "from langchain.chat_models import ChatOpenAI\n",
    "from langchain.prompts import ChatPromptTemplate\n",
    "from langchain.callbacks import StreamingStdOutCallbackHandler\n",
    "\n",
    "chat = ChatOpenAI(temperature=0.1, streaming=True, callbacks=[\n",
    "    StreamingStdOutCallbackHandler()])\n",
    "\n",
    "baker_prompt = ChatPromptTemplate.from_messages(\n",
    "    [\n",
    "        (\"system\", \"You are a international and talented baker. You tried to use less flour. You like to bake gluten free bread\"),\n",
    "        (\"human\", \"I want to cook {cuisine} food.\")\n",
    "    ]\n",
    ")\n",
    "vegan_chef_prompt = ChatPromptTemplate.from_messages([\n",
    "    (\"system\", \"You are a vegetarian chef specialized on making traditional recipes vegetarian. You find alternative ingredients and explain their preparation. You don't radically modify the recipe. If there is no alternative for a food just say you don't know how to recipe it.\"), \n",
    "    (\"human\", \"{recipe}\")\n",
    "])\n",
    "\n",
    "chef_chain = baker_prompt | chat\n",
    "veg_chain = vegan_chef_prompt | chat\n",
    "\n",
    "final_chain = {\"recipe\": chef_chain} | veg_chain\n",
    "final_chain.invoke({\"cuisine\": \"muffin\"})"
   ]
  }
 ],
 "metadata": {
  "kernelspec": {
   "display_name": "env",
   "language": "python",
   "name": "python3"
  },
  "language_info": {
   "codemirror_mode": {
    "name": "ipython",
    "version": 3
   },
   "file_extension": ".py",
   "mimetype": "text/x-python",
   "name": "python",
   "nbconvert_exporter": "python",
   "pygments_lexer": "ipython3",
   "version": "3.11.6"
  }
 },
 "nbformat": 4,
 "nbformat_minor": 2
}
